{
 "cells": [
  {
   "cell_type": "markdown",
   "metadata": {
    "collapsed": true,
    "deletable": true,
    "editable": true
   },
   "source": [
    "# Image Classification\n",
    "In this project, you'll classify images from the [CIFAR-10 dataset](https://www.cs.toronto.edu/~kriz/cifar.html).  The dataset consists of airplanes, dogs, cats, and other objects. You'll preprocess the images, then train a convolutional neural network on all the samples. The images need to be normalized and the labels need to be one-hot encoded.  You'll get to apply what you learned and build a convolutional, max pooling, dropout, and fully connected layers.  At the end, you'll get to see your neural network's predictions on the sample images.\n",
    "## Get the Data\n",
    "Run the following cell to download the [CIFAR-10 dataset for python](https://www.cs.toronto.edu/~kriz/cifar-10-python.tar.gz)."
   ]
  },
  {
   "cell_type": "code",
   "execution_count": 1,
   "metadata": {
    "collapsed": false,
    "deletable": true,
    "editable": true
   },
   "outputs": [
    {
     "name": "stderr",
     "output_type": "stream",
     "text": [
      "CIFAR-10 Dataset: 171MB [02:24, 1.18MB/s]                              \n"
     ]
    },
    {
     "name": "stdout",
     "output_type": "stream",
     "text": [
      "All files found!\n"
     ]
    }
   ],
   "source": [
    "\"\"\"\n",
    "DON'T MODIFY ANYTHING IN THIS CELL THAT IS BELOW THIS LINE\n",
    "\"\"\"\n",
    "from urllib.request import urlretrieve\n",
    "from os.path import isfile, isdir\n",
    "from tqdm import tqdm\n",
    "import problem_unittests as tests\n",
    "import tarfile\n",
    "\n",
    "cifar10_dataset_folder_path = 'cifar-10-batches-py'\n",
    "\n",
    "# Use Floyd's cifar-10 dataset if present\n",
    "floyd_cifar10_location = '/input/cifar-10/python.tar.gz'\n",
    "if isfile(floyd_cifar10_location):\n",
    "    tar_gz_path = floyd_cifar10_location\n",
    "else:\n",
    "    tar_gz_path = 'cifar-10-python.tar.gz'\n",
    "\n",
    "class DLProgress(tqdm):\n",
    "    last_block = 0\n",
    "\n",
    "    def hook(self, block_num=1, block_size=1, total_size=None):\n",
    "        self.total = total_size\n",
    "        self.update((block_num - self.last_block) * block_size)\n",
    "        self.last_block = block_num\n",
    "\n",
    "if not isfile(tar_gz_path):\n",
    "    with DLProgress(unit='B', unit_scale=True, miniters=1, desc='CIFAR-10 Dataset') as pbar:\n",
    "        urlretrieve(\n",
    "            'https://www.cs.toronto.edu/~kriz/cifar-10-python.tar.gz',\n",
    "            tar_gz_path,\n",
    "            pbar.hook)\n",
    "\n",
    "if not isdir(cifar10_dataset_folder_path):\n",
    "    with tarfile.open(tar_gz_path) as tar:\n",
    "        tar.extractall()\n",
    "        tar.close()\n",
    "\n",
    "\n",
    "tests.test_folder_path(cifar10_dataset_folder_path)"
   ]
  },
  {
   "cell_type": "markdown",
   "metadata": {
    "deletable": true,
    "editable": true
   },
   "source": [
    "## Explore the Data\n",
    "The dataset is broken into batches to prevent your machine from running out of memory.  The CIFAR-10 dataset consists of 5 batches, named `data_batch_1`, `data_batch_2`, etc.. Each batch contains the labels and images that are one of the following:\n",
    "* airplane\n",
    "* automobile\n",
    "* bird\n",
    "* cat\n",
    "* deer\n",
    "* dog\n",
    "* frog\n",
    "* horse\n",
    "* ship\n",
    "* truck\n",
    "\n",
    "Understanding a dataset is part of making predictions on the data.  Play around with the code cell below by changing the `batch_id` and `sample_id`. The `batch_id` is the id for a batch (1-5). The `sample_id` is the id for a image and label pair in the batch.\n",
    "\n",
    "Ask yourself \"What are all possible labels?\", \"What is the range of values for the image data?\", \"Are the labels in order or random?\".  Answers to questions like these will help you preprocess the data and end up with better predictions."
   ]
  },
  {
   "cell_type": "code",
   "execution_count": 6,
   "metadata": {
    "collapsed": false,
    "deletable": true,
    "editable": true
   },
   "outputs": [
    {
     "name": "stdout",
     "output_type": "stream",
     "text": [
      "\n",
      "Stats of batch 2:\n",
      "Samples: 10000\n",
      "Label Counts: {0: 984, 1: 1007, 2: 1010, 3: 995, 4: 1010, 5: 988, 6: 1008, 7: 1026, 8: 987, 9: 985}\n",
      "First 20 Labels: [1, 6, 6, 8, 8, 3, 4, 6, 0, 6, 0, 3, 6, 6, 5, 4, 8, 3, 2, 6]\n",
      "\n",
      "Example of Image 3:\n",
      "Image - Min Value: 4 Max Value: 255\n",
      "Image - Shape: (32, 32, 3)\n",
      "Label - Label Id: 8 Name: ship\n"
     ]
    },
    {
     "data": {
      "image/png": "[encoded data removed]",
      "text/plain": [
       "<matplotlib.figure.Figure at 0x7faae1470898>"
      ]
     },
     "metadata": {
      "image/png": {
       "height": 250,
       "width": 253
      }
     },
     "output_type": "display_data"
    }
   ],
   "source": [
    "### %matplotlib inline\n",
    "%config InlineBackend.figure_format = 'retina'\n",
    "\n",
    "import helper\n",
    "import numpy as np\n",
    "\n",
    "# Explore the dataset\n",
    "batch_id = 2\n",
    "sample_id = 3\n",
    "helper.display_stats(cifar10_dataset_folder_path, batch_id, sample_id)"
   ]
  },
  {
   "cell_type": "markdown",
   "metadata": {
    "deletable": true,
    "editable": true
   },
   "source": [
    "## Implement Preprocess Functions\n",
    "### Normalize\n",
    "In the cell below, implement the `normalize` function to take in image data, `x`, and return it as a normalized Numpy array. The values should be in the range of 0 to 1, inclusive.  The return object should be the same shape as `x`."
   ]
  },
  {
   "cell_type": "code",
   "execution_count": 7,
   "metadata": {
    "collapsed": false,
    "deletable": true,
    "editable": true
   },
   "outputs": [
    {
     "name": "stdout",
     "output_type": "stream",
     "text": [
      "Tests Passed\n"
     ]
    }
   ],
   "source": [
    "def normalize(x):\n",
    "    \"\"\"\n",
    "    Normalize a list of sample image data in the range of 0 to 1\n",
    "    : x: List of image data.  The image shape is (32, 32, 3)\n",
    "    : return: Numpy array of normalize data\n",
    "    \"\"\"\n",
    "    # TODO: Implement Function\n",
    "    return (x-x.min())/(x.max()-x.min())\n",
    "\n",
    "\n",
    "\n",
    "\"\"\"\n",
    "DON'T MODIFY ANYTHING IN THIS CELL THAT IS BELOW THIS LINE\n",
    "\"\"\"\n",
    "tests.test_normalize(normalize)"
   ]
  },
  {
   "cell_type": "markdown",
   "metadata": {
    "deletable": true,
    "editable": true
   },
   "source": [
    "### One-hot encode\n",
    "Just like the previous code cell, you'll be implementing a function for preprocessing.  This time, you'll implement the `one_hot_encode` function. The input, `x`, are a list of labels.  Implement the function to return the list of labels as One-Hot encoded Numpy array.  The possible values for labels are 0 to 9. The one-hot encoding function should return the same encoding for each value between each call to `one_hot_encode`.  Make sure to save the map of encodings outside the function.\n",
    "\n",
    "Hint: Don't reinvent the wheel."
   ]
  },
  {
   "cell_type": "code",
   "execution_count": 8,
   "metadata": {
    "collapsed": false,
    "deletable": true,
    "editable": true
   },
   "outputs": [
    {
     "name": "stdout",
     "output_type": "stream",
     "text": [
      "Tests Passed\n"
     ]
    }
   ],
   "source": [
    "def one_hot_encode(x):\n",
    "    \"\"\"\n",
    "    One hot encode a list of sample labels. Return a one-hot encoded vector for each label.\n",
    "    : x: List of sample Labels\n",
    "    : return: Numpy array of one-hot encoded labels\n",
    "    \"\"\"\n",
    "    # TODO: Implement Function\n",
    "    return np.eye(10)[x]\n",
    "\n",
    "\n",
    "\n",
    "\"\"\"\n",
    "DON'T MODIFY ANYTHING IN THIS CELL THAT IS BELOW THIS LINE\n",
    "\"\"\"\n",
    "tests.test_one_hot_encode(one_hot_encode)"
   ]
  },
  {
   "cell_type": "markdown",
   "metadata": {
    "deletable": true,
    "editable": true
   },
   "source": [
    "### Randomize Data\n",
    "As you saw from exploring the data above, the order of the samples are randomized.  It doesn't hurt to randomize it again, but you don't need to for this dataset."
   ]
  },
  {
   "cell_type": "markdown",
   "metadata": {
    "deletable": true,
    "editable": true
   },
   "source": [
    "## Preprocess all the data and save it\n",
    "Running the code cell below will preprocess all the CIFAR-10 data and save it to file. The code below also uses 10% of the training data for validation."
   ]
  },
  {
   "cell_type": "code",
   "execution_count": 9,
   "metadata": {
    "collapsed": false,
    "deletable": true,
    "editable": true
   },
   "outputs": [],
   "source": [
    "\"\"\"\n",
    "DON'T MODIFY ANYTHING IN THIS CELL\n",
    "\"\"\"\n",
    "# Preprocess Training, Validation, and Testing Data\n",
    "helper.preprocess_and_save_data(cifar10_dataset_folder_path, normalize, one_hot_encode)"
   ]
  },
  {
   "cell_type": "markdown",
   "metadata": {
    "deletable": true,
    "editable": true
   },
   "source": [
    "# Check Point\n",
    "This is your first checkpoint.  If you ever decide to come back to this notebook or have to restart the notebook, you can start from here.  The preprocessed data has been saved to disk."
   ]
  },
  {
   "cell_type": "code",
   "execution_count": 10,
   "metadata": {
    "collapsed": true,
    "deletable": true,
    "editable": true
   },
   "outputs": [],
   "source": [
    "\"\"\"\n",
    "DON'T MODIFY ANYTHING IN THIS CELL\n",
    "\"\"\"\n",
    "import pickle\n",
    "import problem_unittests as tests\n",
    "import helper\n",
    "\n",
    "# Load the Preprocessed Validation data\n",
    "valid_features, valid_labels = pickle.load(open('preprocess_validation.p', mode='rb'))"
   ]
  },
  {
   "cell_type": "markdown",
   "metadata": {
    "deletable": true,
    "editable": true
   },
   "source": [
    "## Build the network\n",
    "For the neural network, you'll build each layer into a function.  Most of the code you've seen has been outside of functions. To test your code more thoroughly, we require that you put each layer in a function.  This allows us to give you better feedback and test for simple mistakes using our unittests before you submit your project.\n",
    "\n",
    ">**Note:** If you're finding it hard to dedicate enough time for this course each week, we've provided a small shortcut to this part of the project. In the next couple of problems, you'll have the option to use classes from the [TensorFlow Layers](https://www.tensorflow.org/api_docs/python/tf/layers) or [TensorFlow Layers (contrib)](https://www.tensorflow.org/api_guides/python/contrib.layers) packages to build each layer, except the layers you build in the \"Convolutional and Max Pooling Layer\" section.  TF Layers is similar to Keras's and TFLearn's abstraction to layers, so it's easy to pickup.\n",
    "\n",
    ">However, if you would like to get the most out of this course, try to solve all the problems _without_ using anything from the TF Layers packages. You **can** still use classes from other packages that happen to have the same name as ones you find in TF Layers! For example, instead of using the TF Layers version of the `conv2d` class, [tf.layers.conv2d](https://www.tensorflow.org/api_docs/python/tf/layers/conv2d), you would want to use the TF Neural Network version of `conv2d`, [tf.nn.conv2d](https://www.tensorflow.org/api_docs/python/tf/nn/conv2d). \n",
    "\n",
    "Let's begin!\n",
    "\n",
    "### Input\n",
    "The neural network needs to read the image data, one-hot encoded labels, and dropout keep probability. Implement the following functions\n",
    "* Implement `neural_net_image_input`\n",
    " * Return a [TF Placeholder](https://www.tensorflow.org/api_docs/python/tf/placeholder)\n",
    " * Set the shape using `image_shape` with batch size set to `None`.\n",
    " * Name the TensorFlow placeholder \"x\" using the TensorFlow `name` parameter in the [TF Placeholder](https://www.tensorflow.org/api_docs/python/tf/placeholder).\n",
    "* Implement `neural_net_label_input`\n",
    " * Return a [TF Placeholder](https://www.tensorflow.org/api_docs/python/tf/placeholder)\n",
    " * Set the shape using `n_classes` with batch size set to `None`.\n",
    " * Name the TensorFlow placeholder \"y\" using the TensorFlow `name` parameter in the [TF Placeholder](https://www.tensorflow.org/api_docs/python/tf/placeholder).\n",
    "* Implement `neural_net_keep_prob_input`\n",
    " * Return a [TF Placeholder](https://www.tensorflow.org/api_docs/python/tf/placeholder) for dropout keep probability.\n",
    " * Name the TensorFlow placeholder \"keep_prob\" using the TensorFlow `name` parameter in the [TF Placeholder](https://www.tensorflow.org/api_docs/python/tf/placeholder).\n",
    "\n",
    "These names will be used at the end of the project to load your saved model.\n",
    "\n",
    "Note: `None` for shapes in TensorFlow allow for a dynamic size."
   ]
  },
  {
   "cell_type": "code",
   "execution_count": 11,
   "metadata": {
    "collapsed": false,
    "deletable": true,
    "editable": true
   },
   "outputs": [
    {
     "name": "stdout",
     "output_type": "stream",
     "text": [
      "Image Input Tests Passed.\n",
      "Label Input Tests Passed.\n",
      "Keep Prob Tests Passed.\n"
     ]
    }
   ],
   "source": [
    "import tensorflow as tf\n",
    "\n",
    "def neural_net_image_input(image_shape):\n",
    "    \"\"\"\n",
    "    Return a Tensor for a batch of image input\n",
    "    : image_shape: Shape of the images\n",
    "    : return: Tensor for image input.\n",
    "    \"\"\"\n",
    "    # TODO: Implement Function\n",
    "    shape = (None, *image_shape)\n",
    "    x = tf.placeholder(tf.float32,shape,name = 'x')\n",
    "    return x\n",
    "\n",
    "\n",
    "def neural_net_label_input(n_classes):\n",
    "    \"\"\"\n",
    "    Return a Tensor for a batch of label input\n",
    "    : n_classes: Number of classes\n",
    "    : return: Tensor for label input.\n",
    "    \"\"\"\n",
    "    # TODO: Implement Function\n",
    "    shape = [None,n_classes]\n",
    "    y = tf.placeholder(tf.float32, shape, name = 'y')\n",
    "    return y\n",
    "\n",
    "\n",
    "def neural_net_keep_prob_input():\n",
    "    \"\"\"\n",
    "    Return a Tensor for keep probability\n",
    "    : return: Tensor for keep probability.\n",
    "    \"\"\"\n",
    "    # TODO: Implement Function\n",
    "    prob = tf.placeholder(tf.float32,None,name = 'keep_prob')\n",
    "    return prob\n",
    "    \n",
    "\n",
    "\"\"\"\n",
    "DON'T MODIFY ANYTHING IN THIS CELL THAT IS BELOW THIS LINE\n",
    "\"\"\"\n",
    "tf.reset_default_graph()\n",
    "tests.test_nn_image_inputs(neural_net_image_input)\n",
    "tests.test_nn_label_inputs(neural_net_label_input)\n",
    "tests.test_nn_keep_prob_inputs(neural_net_keep_prob_input)"
   ]
  },
  {
   "cell_type": "markdown",
   "metadata": {
    "deletable": true,
    "editable": true
   },
   "source": [
    "### Convolution and Max Pooling Layer\n",
    "Convolution layers have a lot of success with images. For this code cell, you should implement the function `conv2d_maxpool` to apply convolution then max pooling:\n",
    "* Create the weight and bias using `conv_ksize`, `conv_num_outputs` and the shape of `x_tensor`.\n",
    "* Apply a convolution to `x_tensor` using weight and `conv_strides`.\n",
    " * We recommend you use same padding, but you're welcome to use any padding.\n",
    "* Add bias\n",
    "* Add a nonlinear activation to the convolution.\n",
    "* Apply Max Pooling using `pool_ksize` and `pool_strides`.\n",
    " * We recommend you use same padding, but you're welcome to use any padding.\n",
    "\n",
    "**Note:** You **can't** use [TensorFlow Layers](https://www.tensorflow.org/api_docs/python/tf/layers) or [TensorFlow Layers (contrib)](https://www.tensorflow.org/api_guides/python/contrib.layers) for **this** layer, but you can still use TensorFlow's [Neural Network](https://www.tensorflow.org/api_docs/python/tf/nn) package. You may still use the shortcut option for all the **other** layers."
   ]
  },
  {
   "cell_type": "code",
   "execution_count": 13,
   "metadata": {
    "collapsed": false,
    "deletable": true,
    "editable": true
   },
   "outputs": [
    {
     "name": "stdout",
     "output_type": "stream",
     "text": [
      "Tests Passed\n"
     ]
    }
   ],
   "source": [
    "from math import sqrt\n",
    "def conv2d_maxpool(x_tensor, conv_num_outputs, conv_ksize, conv_strides, pool_ksize, pool_strides):\n",
    "    \"\"\"\n",
    "    Apply convolution then max pooling to x_tensor\n",
    "    :param x_tensor: TensorFlow Tensor\n",
    "    :param conv_num_outputs: Number of outputs for the convolutional layer\n",
    "    :param conv_ksize: kernal size 2-D Tuple for the convolutional layer\n",
    "    :param conv_strides: Stride 2-D Tuple for convolution\n",
    "    :param pool_ksize: kernal size 2-D Tuple for pool\n",
    "    :param pool_strides: Stride 2-D Tuple for pool\n",
    "    : return: A tensor that represents convolution and max pooling of x_tensor\n",
    "    \"\"\"\n",
    "    # TODO: Implement Function\n",
    "    shapeIn = x_tensor.get_shape().as_list()\n",
    "    size = (conv_ksize[0],conv_ksize[1],shapeIn[3],conv_num_outputs)\n",
    "    \n",
    "    W = tf.Variable(tf.truncated_normal(size,0,(1/sqrt(shapeIn[1]*shapeIn[2]*shapeIn[3]))))\n",
    "    B = tf.Variable(tf.zeros(conv_num_outputs))\n",
    "    \n",
    "    x_tensor = tf.nn.conv2d(x_tensor, W, strides=[1, conv_strides[0], conv_strides[1],1],\n",
    "                           padding = 'SAME')\n",
    "    x_tensor = tf.nn.bias_add(x_tensor, B)\n",
    "    x_tensor = tf.nn.relu(x_tensor)\n",
    "    x_tensor = tf.nn.max_pool(\n",
    "        x_tensor,\n",
    "        ksize = [1, pool_ksize[0], pool_ksize[1], 1],\n",
    "        strides = [1, pool_strides[0], pool_strides[1], 1],\n",
    "        padding = 'SAME'\n",
    "    )\n",
    "    \n",
    "    return x_tensor\n",
    "\n",
    "\n",
    "\"\"\"\n",
    "DON'T MODIFY ANYTHING IN THIS CELL THAT IS BELOW THIS LINE\n",
    "\"\"\"\n",
    "tests.test_con_pool(conv2d_maxpool)"
   ]
  },
  {
   "cell_type": "markdown",
   "metadata": {
    "deletable": true,
    "editable": true
   },
   "source": [
    "### Flatten Layer\n",
    "Implement the `flatten` function to change the dimension of `x_tensor` from a 4-D tensor to a 2-D tensor.  The output should be the shape (*Batch Size*, *Flattened Image Size*). Shortcut option: you can use classes from the [TensorFlow Layers](https://www.tensorflow.org/api_docs/python/tf/layers) or [TensorFlow Layers (contrib)](https://www.tensorflow.org/api_guides/python/contrib.layers) packages for this layer. For more of a challenge, only use other TensorFlow packages."
   ]
  },
  {
   "cell_type": "code",
   "execution_count": 14,
   "metadata": {
    "collapsed": false,
    "deletable": true,
    "editable": true
   },
   "outputs": [
    {
     "name": "stdout",
     "output_type": "stream",
     "text": [
      "[None, 10, 30, 6]\n",
      "Tests Passed\n"
     ]
    }
   ],
   "source": [
    "def flatten(x_tensor):\n",
    "    \"\"\"\n",
    "    Flatten x_tensor to (Batch Size, Flattened Image Size)\n",
    "    : x_tensor: A tensor of size (Batch Size, ...), where ... are the image dimensions.\n",
    "    : return: A tensor of size (Batch Size, Flattened Image Size).\n",
    "    \"\"\"\n",
    "    # TODO: Implement Function\n",
    "    shapeIn = x_tensor.get_shape().as_list()\n",
    "    print(shapeIn)\n",
    "    return tf.contrib.layers.flatten(x_tensor)\n",
    "    \n",
    "\n",
    "\n",
    "\"\"\"\n",
    "DON'T MODIFY ANYTHING IN THIS CELL THAT IS BELOW THIS LINE\n",
    "\"\"\"\n",
    "tests.test_flatten(flatten)"
   ]
  },
  {
   "cell_type": "markdown",
   "metadata": {
    "deletable": true,
    "editable": true
   },
   "source": [
    "### Fully-Connected Layer\n",
    "Implement the `fully_conn` function to apply a fully connected layer to `x_tensor` with the shape (*Batch Size*, *num_outputs*). Shortcut option: you can use classes from the [TensorFlow Layers](https://www.tensorflow.org/api_docs/python/tf/layers) or [TensorFlow Layers (contrib)](https://www.tensorflow.org/api_guides/python/contrib.layers) packages for this layer. For more of a challenge, only use other TensorFlow packages."
   ]
  },
  {
   "cell_type": "code",
   "execution_count": 15,
   "metadata": {
    "collapsed": false,
    "deletable": true,
    "editable": true
   },
   "outputs": [
    {
     "name": "stdout",
     "output_type": "stream",
     "text": [
      "Tests Passed\n"
     ]
    }
   ],
   "source": [
    "def fully_conn(x_tensor, num_outputs):\n",
    "    \"\"\"\n",
    "    Apply a fully connected layer to x_tensor using weight and bias\n",
    "    : x_tensor: A 2-D tensor where the first dimension is batch size.\n",
    "    : num_outputs: The number of output that the new tensor should be.\n",
    "    : return: A 2-D tensor where the second dimension is num_outputs.\n",
    "    \"\"\"\n",
    "    # TODO: Implement Function\n",
    "    shapeIn = x_tensor.get_shape().as_list()\n",
    "    weights = tf.Variable(tf.truncated_normal([shapeIn[1],num_outputs],0,0.01))\n",
    "    biases = tf.Variable(tf.zeros(num_outputs))\n",
    "    \n",
    "    x_tensor = tf.add(tf.matmul(x_tensor, weights), biases)\n",
    "    return tf.nn.relu(x_tensor)\n",
    "\n",
    "\n",
    "\"\"\"\n",
    "DON'T MODIFY ANYTHING IN THIS CELL THAT IS BELOW THIS LINE\n",
    "\"\"\"\n",
    "tests.test_fully_conn(fully_conn)"
   ]
  },
  {
   "cell_type": "markdown",
   "metadata": {
    "deletable": true,
    "editable": true
   },
   "source": [
    "### Output Layer\n",
    "Implement the `output` function to apply a fully connected layer to `x_tensor` with the shape (*Batch Size*, *num_outputs*). Shortcut option: you can use classes from the [TensorFlow Layers](https://www.tensorflow.org/api_docs/python/tf/layers) or [TensorFlow Layers (contrib)](https://www.tensorflow.org/api_guides/python/contrib.layers) packages for this layer. For more of a challenge, only use other TensorFlow packages.\n",
    "\n",
    "**Note:** Activation, softmax, or cross entropy should **not** be applied to this."
   ]
  },
  {
   "cell_type": "code",
   "execution_count": 16,
   "metadata": {
    "collapsed": false,
    "deletable": true,
    "editable": true
   },
   "outputs": [
    {
     "name": "stdout",
     "output_type": "stream",
     "text": [
      "Tests Passed\n"
     ]
    }
   ],
   "source": [
    "def output(x_tensor, num_outputs):\n",
    "    \"\"\"\n",
    "    Apply a output layer to x_tensor using weight and bias\n",
    "    : x_tensor: A 2-D tensor where the first dimension is batch size.\n",
    "    : num_outputs: The number of output that the new tensor should be.\n",
    "    : return: A 2-D tensor where the second dimension is num_outputs.\n",
    "    \"\"\"\n",
    "    # TODO: Implement Function\n",
    "    shapeIn = x_tensor.get_shape().as_list()\n",
    "    weights = tf.Variable(tf.truncated_normal([shapeIn[1],num_outputs], 0, 0.01))\n",
    "    biases = tf.Variable(tf.zeros(num_outputs))\n",
    "    \n",
    "    x_tensor = tf.add(tf.matmul(x_tensor,weights), biases)\n",
    "    return x_tensor\n",
    "\n",
    "\"\"\"\n",
    "DON'T MODIFY ANYTHING IN THIS CELL THAT IS BELOW THIS LINE\n",
    "\"\"\"\n",
    "tests.test_output(output)"
   ]
  },
  {
   "cell_type": "markdown",
   "metadata": {
    "deletable": true,
    "editable": true
   },
   "source": [
    "### Create Convolutional Model\n",
    "Implement the function `conv_net` to create a convolutional neural network model. The function takes in a batch of images, `x`, and outputs logits.  Use the layers you created above to create this model:\n",
    "\n",
    "* Apply 1, 2, or 3 Convolution and Max Pool layers\n",
    "* Apply a Flatten Layer\n",
    "* Apply 1, 2, or 3 Fully Connected Layers\n",
    "* Apply an Output Layer\n",
    "* Return the output\n",
    "* Apply [TensorFlow's Dropout](https://www.tensorflow.org/api_docs/python/tf/nn/dropout) to one or more layers in the model using `keep_prob`. "
   ]
  },
  {
   "cell_type": "code",
   "execution_count": 18,
   "metadata": {
    "collapsed": false,
    "deletable": true,
    "editable": true
   },
   "outputs": [
    {
     "name": "stdout",
     "output_type": "stream",
     "text": [
      "[None, 16, 16, 64]\n",
      "[None, 16, 16, 64]\n",
      "Neural Network Built!\n"
     ]
    }
   ],
   "source": [
    "def conv_net(x, keep_prob):\n",
    "    \n",
    "    conv_num_outputs = 64\n",
    "    conv_ksize = (4,4)\n",
    "    conv_strides = (2,2)\n",
    "    pool_ksize = (4,4)\n",
    "    pool_strides = (1,1)\n",
    "    num_outputs = 10\n",
    "    num_outputs_fully = 64    \n",
    "    \n",
    "    \"\"\"\n",
    "    Create a convolutional neural network model\n",
    "    : x: Placeholder tensor that holds image data.\n",
    "    : keep_prob: Placeholder tensor that hold dropout keep probability.\n",
    "    : return: Tensor that represents logits\n",
    "    \"\"\"\n",
    "    # TODO: Apply 1, 2, or 3 Convolution and Max Pool layers\n",
    "    #    Play around with different number of outputs, kernel size and stride\n",
    "    # Function Definition from Above:\n",
    "    #    conv2d_maxpool(x_tensor, conv_num_outputs, conv_ksize, conv_strides, pool_ksize, pool_strides)\n",
    "    \n",
    "    x_tensor = conv2d_maxpool(x, conv_num_outputs, conv_ksize, conv_strides, pool_ksize, pool_strides)\n",
    "    # TODO: Apply a Flatten Layer\n",
    "    # Function Definition from Above:\n",
    "    #   flatten(x_tensor)\n",
    "    \n",
    "    x_tensor = flatten(x_tensor)\n",
    "\n",
    "    # TODO: Apply 1, 2, or 3 Fully Connected Layers\n",
    "    #    Play around with different number of outputs\n",
    "    # Function Definition from Above:\n",
    "    #   fully_conn(x_tensor, num_outputs)\n",
    "    \n",
    "    x_tensor = fully_conn(x_tensor, num_outputs_fully)\n",
    "    # TODO: Apply an Output Layer\n",
    "    #    Set this to the number of classes\n",
    "    # Function Definition from Above:\n",
    "    #   output(x_tensor, num_outputs)\n",
    "    x = output(x_tensor, num_outputs)\n",
    "    \n",
    "    # TODO: return output\n",
    "    return x\n",
    "\n",
    "\n",
    "\"\"\"\n",
    "DON'T MODIFY ANYTHING IN THIS CELL THAT IS BELOW THIS LINE\n",
    "\"\"\"\n",
    "\n",
    "##############################\n",
    "## Build the Neural Network ##\n",
    "##############################\n",
    "\n",
    "# Remove previous weights, bias, inputs, etc..\n",
    "tf.reset_default_graph()\n",
    "\n",
    "# Inputs\n",
    "x = neural_net_image_input((32, 32, 3))\n",
    "y = neural_net_label_input(10)\n",
    "keep_prob = neural_net_keep_prob_input()\n",
    "\n",
    "# Model\n",
    "logits = conv_net(x, keep_prob)\n",
    "\n",
    "# Name logits Tensor, so that is can be loaded from disk after training\n",
    "logits = tf.identity(logits, name='logits')\n",
    "\n",
    "# Loss and Optimizer\n",
    "cost = tf.reduce_mean(tf.nn.softmax_cross_entropy_with_logits(logits=logits, labels=y))\n",
    "optimizer = tf.train.AdamOptimizer().minimize(cost)\n",
    "\n",
    "# Accuracy\n",
    "correct_pred = tf.equal(tf.argmax(logits, 1), tf.argmax(y, 1))\n",
    "accuracy = tf.reduce_mean(tf.cast(correct_pred, tf.float32), name='accuracy')\n",
    "\n",
    "tests.test_conv_net(conv_net)"
   ]
  },
  {
   "cell_type": "markdown",
   "metadata": {
    "deletable": true,
    "editable": true
   },
   "source": [
    "## Train the Neural Network\n",
    "### Single Optimization\n",
    "Implement the function `train_neural_network` to do a single optimization.  The optimization should use `optimizer` to optimize in `session` with a `feed_dict` of the following:\n",
    "* `x` for image input\n",
    "* `y` for labels\n",
    "* `keep_prob` for keep probability for dropout\n",
    "\n",
    "This function will be called for each batch, so `tf.global_variables_initializer()` has already been called.\n",
    "\n",
    "Note: Nothing needs to be returned. This function is only optimizing the neural network."
   ]
  },
  {
   "cell_type": "code",
   "execution_count": 19,
   "metadata": {
    "collapsed": false,
    "deletable": true,
    "editable": true
   },
   "outputs": [
    {
     "name": "stdout",
     "output_type": "stream",
     "text": [
      "Tests Passed\n"
     ]
    }
   ],
   "source": [
    "def train_neural_network(session, optimizer, keep_probability, feature_batch, label_batch):\n",
    "    \"\"\"\n",
    "    Optimize the session on a batch of images and labels\n",
    "    : session: Current TensorFlow session\n",
    "    : optimizer: TensorFlow optimizer function\n",
    "    : keep_probability: keep probability\n",
    "    : feature_batch: Batch of Numpy image data\n",
    "    : label_batch: Batch of Numpy label data\n",
    "    \"\"\"\n",
    "    # TODO: Implement Function\n",
    "    session.run(optimizer, feed_dict={x:feature_batch,\n",
    "                                     y:label_batch,\n",
    "                                     keep_prob:keep_probability})\n",
    "    pass\n",
    "\n",
    "\n",
    "\"\"\"\n",
    "DON'T MODIFY ANYTHING IN THIS CELL THAT IS BELOW THIS LINE\n",
    "\"\"\"\n",
    "tests.test_train_nn(train_neural_network)"
   ]
  },
  {
   "cell_type": "markdown",
   "metadata": {
    "deletable": true,
    "editable": true
   },
   "source": [
    "### Show Stats\n",
    "Implement the function `print_stats` to print loss and validation accuracy.  Use the global variables `valid_features` and `valid_labels` to calculate validation accuracy.  Use a keep probability of `1.0` to calculate the loss and validation accuracy."
   ]
  },
  {
   "cell_type": "code",
   "execution_count": 20,
   "metadata": {
    "collapsed": false,
    "deletable": true,
    "editable": true
   },
   "outputs": [],
   "source": [
    "def print_stats(session, feature_batch, label_batch, cost, accuracy):\n",
    "    \"\"\"\n",
    "    Print information about loss and validation accuracy\n",
    "    : session: Current TensorFlow session\n",
    "    : feature_batch: Batch of Numpy image data\n",
    "    : label_batch: Batch of Numpy label data\n",
    "    : cost: TensorFlow cost function\n",
    "    : accuracy: TensorFlow accuracy function\n",
    "    \"\"\"\n",
    "    # TODO: Implement Function\n",
    "    loss = session.run(cost, feed_dict={x: feature_batch,\n",
    "                                        y: label_batch,\n",
    "                                       keep_prob: 1.0})\n",
    "    valid_acc = session.run(accuracy, feed_dict={x: valid_features,\n",
    "                                                y: valid_labels,\n",
    "                                                keep_prob:1.0})\n",
    "    print('Loss: {:>10.4f} Validation Accuracy: {:.6f}'.format(loss,valid_acc))\n",
    "    pass"
   ]
  },
  {
   "cell_type": "markdown",
   "metadata": {
    "deletable": true,
    "editable": true
   },
   "source": [
    "### Hyperparameters\n",
    "Tune the following parameters:\n",
    "* Set `epochs` to the number of iterations until the network stops learning or start overfitting\n",
    "* Set `batch_size` to the highest number that your machine has memory for.  Most people set them to common sizes of memory:\n",
    " * 64\n",
    " * 128\n",
    " * 256\n",
    " * ...\n",
    "* Set `keep_probability` to the probability of keeping a node using dropout"
   ]
  },
  {
   "cell_type": "code",
   "execution_count": 21,
   "metadata": {
    "collapsed": true,
    "deletable": true,
    "editable": true
   },
   "outputs": [],
   "source": [
    "# TODO: Tune Parameters\n",
    "epochs = 60\n",
    "batch_size = 1024\n",
    "keep_probability = 0.8"
   ]
  },
  {
   "cell_type": "markdown",
   "metadata": {
    "deletable": true,
    "editable": true
   },
   "source": [
    "### Train on a Single CIFAR-10 Batch\n",
    "Instead of training the neural network on all the CIFAR-10 batches of data, let's use a single batch. This should save time while you iterate on the model to get a better accuracy.  Once the final validation accuracy is 50% or greater, run the model on all the data in the next section."
   ]
  },
  {
   "cell_type": "code",
   "execution_count": 22,
   "metadata": {
    "collapsed": false,
    "deletable": true,
    "editable": true
   },
   "outputs": [
    {
     "name": "stdout",
     "output_type": "stream",
     "text": [
      "Checking the Training on a Single Batch...\n",
      "Epoch  1, CIFAR-10 Batch 1:  Loss:     2.2193 Validation Accuracy: 0.200800\n",
      "Epoch  2, CIFAR-10 Batch 1:  Loss:     2.1072 Validation Accuracy: 0.208000\n",
      "Epoch  3, CIFAR-10 Batch 1:  Loss:     2.0061 Validation Accuracy: 0.279200\n",
      "Epoch  4, CIFAR-10 Batch 1:  Loss:     1.9475 Validation Accuracy: 0.305200\n",
      "Epoch  5, CIFAR-10 Batch 1:  Loss:     1.8680 Validation Accuracy: 0.314600\n",
      "Epoch  6, CIFAR-10 Batch 1:  Loss:     1.7983 Validation Accuracy: 0.349400\n",
      "Epoch  7, CIFAR-10 Batch 1:  Loss:     1.7532 Validation Accuracy: 0.356000\n",
      "Epoch  8, CIFAR-10 Batch 1:  Loss:     1.7168 Validation Accuracy: 0.374800\n",
      "Epoch  9, CIFAR-10 Batch 1:  Loss:     1.6772 Validation Accuracy: 0.387800\n",
      "Epoch 10, CIFAR-10 Batch 1:  Loss:     1.6311 Validation Accuracy: 0.407400\n",
      "Epoch 11, CIFAR-10 Batch 1:  Loss:     1.5891 Validation Accuracy: 0.415800\n",
      "Epoch 12, CIFAR-10 Batch 1:  Loss:     1.5541 Validation Accuracy: 0.427000\n",
      "Epoch 13, CIFAR-10 Batch 1:  Loss:     1.5277 Validation Accuracy: 0.436000\n",
      "Epoch 14, CIFAR-10 Batch 1:  Loss:     1.4981 Validation Accuracy: 0.445200\n",
      "Epoch 15, CIFAR-10 Batch 1:  Loss:     1.4763 Validation Accuracy: 0.456800\n",
      "Epoch 16, CIFAR-10 Batch 1:  Loss:     1.4632 Validation Accuracy: 0.459600\n",
      "Epoch 17, CIFAR-10 Batch 1:  Loss:     1.4509 Validation Accuracy: 0.466600\n",
      "Epoch 18, CIFAR-10 Batch 1:  Loss:     1.4203 Validation Accuracy: 0.475200\n",
      "Epoch 19, CIFAR-10 Batch 1:  Loss:     1.3997 Validation Accuracy: 0.482200\n",
      "Epoch 20, CIFAR-10 Batch 1:  Loss:     1.3789 Validation Accuracy: 0.488000\n",
      "Epoch 21, CIFAR-10 Batch 1:  Loss:     1.3644 Validation Accuracy: 0.494000\n",
      "Epoch 22, CIFAR-10 Batch 1:  Loss:     1.3512 Validation Accuracy: 0.495600\n",
      "Epoch 23, CIFAR-10 Batch 1:  Loss:     1.3359 Validation Accuracy: 0.500200\n",
      "Epoch 24, CIFAR-10 Batch 1:  Loss:     1.3206 Validation Accuracy: 0.503400\n",
      "Epoch 25, CIFAR-10 Batch 1:  Loss:     1.3059 Validation Accuracy: 0.507000\n",
      "Epoch 26, CIFAR-10 Batch 1:  Loss:     1.2918 Validation Accuracy: 0.512800\n",
      "Epoch 27, CIFAR-10 Batch 1:  Loss:     1.2786 Validation Accuracy: 0.515400\n",
      "Epoch 28, CIFAR-10 Batch 1:  Loss:     1.2650 Validation Accuracy: 0.518200\n",
      "Epoch 29, CIFAR-10 Batch 1:  Loss:     1.2516 Validation Accuracy: 0.521600\n",
      "Epoch 30, CIFAR-10 Batch 1:  Loss:     1.2379 Validation Accuracy: 0.524200\n",
      "Epoch 31, CIFAR-10 Batch 1:  Loss:     1.2225 Validation Accuracy: 0.527600\n",
      "Epoch 32, CIFAR-10 Batch 1:  Loss:     1.2088 Validation Accuracy: 0.529200\n",
      "Epoch 33, CIFAR-10 Batch 1:  Loss:     1.1943 Validation Accuracy: 0.533000\n",
      "Epoch 34, CIFAR-10 Batch 1:  Loss:     1.1818 Validation Accuracy: 0.538000\n",
      "Epoch 35, CIFAR-10 Batch 1:  Loss:     1.1699 Validation Accuracy: 0.542800\n",
      "Epoch 36, CIFAR-10 Batch 1:  Loss:     1.1584 Validation Accuracy: 0.544600\n",
      "Epoch 37, CIFAR-10 Batch 1:  Loss:     1.1464 Validation Accuracy: 0.545400\n",
      "Epoch 38, CIFAR-10 Batch 1:  Loss:     1.1373 Validation Accuracy: 0.547000\n",
      "Epoch 39, CIFAR-10 Batch 1:  Loss:     1.1257 Validation Accuracy: 0.549600\n",
      "Epoch 40, CIFAR-10 Batch 1:  Loss:     1.1159 Validation Accuracy: 0.552000\n",
      "Epoch 41, CIFAR-10 Batch 1:  Loss:     1.1052 Validation Accuracy: 0.553000\n",
      "Epoch 42, CIFAR-10 Batch 1:  Loss:     1.0944 Validation Accuracy: 0.555800\n",
      "Epoch 43, CIFAR-10 Batch 1:  Loss:     1.0827 Validation Accuracy: 0.558600\n",
      "Epoch 44, CIFAR-10 Batch 1:  Loss:     1.0727 Validation Accuracy: 0.559400\n",
      "Epoch 45, CIFAR-10 Batch 1:  Loss:     1.0614 Validation Accuracy: 0.561000\n",
      "Epoch 46, CIFAR-10 Batch 1:  Loss:     1.0513 Validation Accuracy: 0.561800\n",
      "Epoch 47, CIFAR-10 Batch 1:  Loss:     1.0422 Validation Accuracy: 0.559600\n",
      "Epoch 48, CIFAR-10 Batch 1:  Loss:     1.0385 Validation Accuracy: 0.558400\n",
      "Epoch 49, CIFAR-10 Batch 1:  Loss:     1.0464 Validation Accuracy: 0.555200\n",
      "Epoch 50, CIFAR-10 Batch 1:  Loss:     1.0408 Validation Accuracy: 0.557600\n",
      "Epoch 51, CIFAR-10 Batch 1:  Loss:     1.0095 Validation Accuracy: 0.570600\n",
      "Epoch 52, CIFAR-10 Batch 1:  Loss:     0.9952 Validation Accuracy: 0.575800\n",
      "Epoch 53, CIFAR-10 Batch 1:  Loss:     0.9889 Validation Accuracy: 0.574800\n",
      "Epoch 54, CIFAR-10 Batch 1:  Loss:     0.9861 Validation Accuracy: 0.570600\n",
      "Epoch 55, CIFAR-10 Batch 1:  Loss:     0.9783 Validation Accuracy: 0.572200\n",
      "Epoch 56, CIFAR-10 Batch 1:  Loss:     0.9680 Validation Accuracy: 0.571600\n",
      "Epoch 57, CIFAR-10 Batch 1:  Loss:     0.9586 Validation Accuracy: 0.571800\n",
      "Epoch 58, CIFAR-10 Batch 1:  Loss:     0.9518 Validation Accuracy: 0.574600\n",
      "Epoch 59, CIFAR-10 Batch 1:  Loss:     0.9468 Validation Accuracy: 0.571600\n",
      "Epoch 60, CIFAR-10 Batch 1:  Loss:     0.9380 Validation Accuracy: 0.571200\n"
     ]
    }
   ],
   "source": [
    "\"\"\"\n",
    "DON'T MODIFY ANYTHING IN THIS CELL\n",
    "\"\"\"\n",
    "print('Checking the Training on a Single Batch...')\n",
    "with tf.Session() as sess:\n",
    "    # Initializing the variables\n",
    "    sess.run(tf.global_variables_initializer())\n",
    "    \n",
    "    # Training cycle\n",
    "    for epoch in range(epochs):\n",
    "        batch_i = 1\n",
    "        for batch_features, batch_labels in helper.load_preprocess_training_batch(batch_i, batch_size):\n",
    "            train_neural_network(sess, optimizer, keep_probability, batch_features, batch_labels)\n",
    "        print('Epoch {:>2}, CIFAR-10 Batch {}:  '.format(epoch + 1, batch_i), end='')\n",
    "        print_stats(sess, batch_features, batch_labels, cost, accuracy)"
   ]
  },
  {
   "cell_type": "markdown",
   "metadata": {
    "deletable": true,
    "editable": true
   },
   "source": [
    "### Fully Train the Model\n",
    "Now that you got a good accuracy with a single CIFAR-10 batch, try it with all five batches."
   ]
  },
  {
   "cell_type": "code",
   "execution_count": 23,
   "metadata": {
    "collapsed": false,
    "deletable": true,
    "editable": true
   },
   "outputs": [
    {
     "name": "stdout",
     "output_type": "stream",
     "text": [
      "Training...\n",
      "Epoch  1, CIFAR-10 Batch 1:  Loss:     2.2340 Validation Accuracy: 0.200800\n",
      "Epoch  1, CIFAR-10 Batch 2:  Loss:     2.0415 Validation Accuracy: 0.246800\n",
      "Epoch  1, CIFAR-10 Batch 3:  Loss:     1.9407 Validation Accuracy: 0.263600\n",
      "Epoch  1, CIFAR-10 Batch 4:  Loss:     1.8699 Validation Accuracy: 0.307200\n",
      "Epoch  1, CIFAR-10 Batch 5:  Loss:     1.8391 Validation Accuracy: 0.309200\n",
      "Epoch  2, CIFAR-10 Batch 1:  Loss:     1.7992 Validation Accuracy: 0.355800\n",
      "Epoch  2, CIFAR-10 Batch 2:  Loss:     1.7468 Validation Accuracy: 0.362200\n",
      "Epoch  2, CIFAR-10 Batch 3:  Loss:     1.6722 Validation Accuracy: 0.381800\n",
      "Epoch  2, CIFAR-10 Batch 4:  Loss:     1.6462 Validation Accuracy: 0.390200\n",
      "Epoch  2, CIFAR-10 Batch 5:  Loss:     1.6631 Validation Accuracy: 0.396600\n",
      "Epoch  3, CIFAR-10 Batch 1:  Loss:     1.6202 Validation Accuracy: 0.422600\n",
      "Epoch  3, CIFAR-10 Batch 2:  Loss:     1.6084 Validation Accuracy: 0.408200\n",
      "Epoch  3, CIFAR-10 Batch 3:  Loss:     1.5292 Validation Accuracy: 0.429400\n",
      "Epoch  3, CIFAR-10 Batch 4:  Loss:     1.5038 Validation Accuracy: 0.444600\n",
      "Epoch  3, CIFAR-10 Batch 5:  Loss:     1.5370 Validation Accuracy: 0.440200\n",
      "Epoch  4, CIFAR-10 Batch 1:  Loss:     1.4859 Validation Accuracy: 0.463400\n",
      "Epoch  4, CIFAR-10 Batch 2:  Loss:     1.4849 Validation Accuracy: 0.447200\n",
      "Epoch  4, CIFAR-10 Batch 3:  Loss:     1.4178 Validation Accuracy: 0.465800\n",
      "Epoch  4, CIFAR-10 Batch 4:  Loss:     1.4130 Validation Accuracy: 0.482600\n",
      "Epoch  4, CIFAR-10 Batch 5:  Loss:     1.4491 Validation Accuracy: 0.475800\n",
      "Epoch  5, CIFAR-10 Batch 1:  Loss:     1.3952 Validation Accuracy: 0.499800\n",
      "Epoch  5, CIFAR-10 Batch 2:  Loss:     1.3983 Validation Accuracy: 0.488400\n",
      "Epoch  5, CIFAR-10 Batch 3:  Loss:     1.3380 Validation Accuracy: 0.502400\n",
      "Epoch  5, CIFAR-10 Batch 4:  Loss:     1.3469 Validation Accuracy: 0.504000\n",
      "Epoch  5, CIFAR-10 Batch 5:  Loss:     1.3677 Validation Accuracy: 0.507800\n",
      "Epoch  6, CIFAR-10 Batch 1:  Loss:     1.3296 Validation Accuracy: 0.518000\n",
      "Epoch  6, CIFAR-10 Batch 2:  Loss:     1.3417 Validation Accuracy: 0.503600\n",
      "Epoch  6, CIFAR-10 Batch 3:  Loss:     1.2774 Validation Accuracy: 0.530200\n",
      "Epoch  6, CIFAR-10 Batch 4:  Loss:     1.2893 Validation Accuracy: 0.526600\n",
      "Epoch  6, CIFAR-10 Batch 5:  Loss:     1.3060 Validation Accuracy: 0.528400\n",
      "Epoch  7, CIFAR-10 Batch 1:  Loss:     1.2840 Validation Accuracy: 0.538800\n",
      "Epoch  7, CIFAR-10 Batch 2:  Loss:     1.2873 Validation Accuracy: 0.523000\n",
      "Epoch  7, CIFAR-10 Batch 3:  Loss:     1.2562 Validation Accuracy: 0.535000\n",
      "Epoch  7, CIFAR-10 Batch 4:  Loss:     1.2308 Validation Accuracy: 0.543600\n",
      "Epoch  7, CIFAR-10 Batch 5:  Loss:     1.2592 Validation Accuracy: 0.546000\n",
      "Epoch  8, CIFAR-10 Batch 1:  Loss:     1.2416 Validation Accuracy: 0.554000\n",
      "Epoch  8, CIFAR-10 Batch 2:  Loss:     1.2396 Validation Accuracy: 0.545400\n",
      "Epoch  8, CIFAR-10 Batch 3:  Loss:     1.2013 Validation Accuracy: 0.555200\n",
      "Epoch  8, CIFAR-10 Batch 4:  Loss:     1.1889 Validation Accuracy: 0.555000\n",
      "Epoch  8, CIFAR-10 Batch 5:  Loss:     1.2167 Validation Accuracy: 0.558800\n",
      "Epoch  9, CIFAR-10 Batch 1:  Loss:     1.2031 Validation Accuracy: 0.569200\n",
      "Epoch  9, CIFAR-10 Batch 2:  Loss:     1.1957 Validation Accuracy: 0.565400\n",
      "Epoch  9, CIFAR-10 Batch 3:  Loss:     1.1591 Validation Accuracy: 0.570600\n",
      "Epoch  9, CIFAR-10 Batch 4:  Loss:     1.1588 Validation Accuracy: 0.564400\n",
      "Epoch  9, CIFAR-10 Batch 5:  Loss:     1.1817 Validation Accuracy: 0.573800\n",
      "Epoch 10, CIFAR-10 Batch 1:  Loss:     1.1703 Validation Accuracy: 0.577400\n",
      "Epoch 10, CIFAR-10 Batch 2:  Loss:     1.1589 Validation Accuracy: 0.579000\n",
      "Epoch 10, CIFAR-10 Batch 3:  Loss:     1.1244 Validation Accuracy: 0.582400\n",
      "Epoch 10, CIFAR-10 Batch 4:  Loss:     1.1298 Validation Accuracy: 0.572200\n",
      "Epoch 10, CIFAR-10 Batch 5:  Loss:     1.1461 Validation Accuracy: 0.585400\n",
      "Epoch 11, CIFAR-10 Batch 1:  Loss:     1.1388 Validation Accuracy: 0.586400\n",
      "Epoch 11, CIFAR-10 Batch 2:  Loss:     1.1289 Validation Accuracy: 0.586600\n",
      "Epoch 11, CIFAR-10 Batch 3:  Loss:     1.0953 Validation Accuracy: 0.585200\n",
      "Epoch 11, CIFAR-10 Batch 4:  Loss:     1.1032 Validation Accuracy: 0.583000\n",
      "Epoch 11, CIFAR-10 Batch 5:  Loss:     1.1167 Validation Accuracy: 0.591600\n",
      "Epoch 12, CIFAR-10 Batch 1:  Loss:     1.1152 Validation Accuracy: 0.595000\n",
      "Epoch 12, CIFAR-10 Batch 2:  Loss:     1.1018 Validation Accuracy: 0.596800\n",
      "Epoch 12, CIFAR-10 Batch 3:  Loss:     1.0728 Validation Accuracy: 0.592600\n",
      "Epoch 12, CIFAR-10 Batch 4:  Loss:     1.0761 Validation Accuracy: 0.587800\n",
      "Epoch 12, CIFAR-10 Batch 5:  Loss:     1.0915 Validation Accuracy: 0.599800\n",
      "Epoch 13, CIFAR-10 Batch 1:  Loss:     1.0933 Validation Accuracy: 0.603000\n",
      "Epoch 13, CIFAR-10 Batch 2:  Loss:     1.0793 Validation Accuracy: 0.603000\n",
      "Epoch 13, CIFAR-10 Batch 3:  Loss:     1.0556 Validation Accuracy: 0.595200\n",
      "Epoch 13, CIFAR-10 Batch 4:  Loss:     1.0546 Validation Accuracy: 0.595000\n",
      "Epoch 13, CIFAR-10 Batch 5:  Loss:     1.0710 Validation Accuracy: 0.608400\n",
      "Epoch 14, CIFAR-10 Batch 1:  Loss:     1.0757 Validation Accuracy: 0.608800\n",
      "Epoch 14, CIFAR-10 Batch 2:  Loss:     1.0556 Validation Accuracy: 0.607800\n",
      "Epoch 14, CIFAR-10 Batch 3:  Loss:     1.0349 Validation Accuracy: 0.597600\n",
      "Epoch 14, CIFAR-10 Batch 4:  Loss:     1.0333 Validation Accuracy: 0.598600\n",
      "Epoch 14, CIFAR-10 Batch 5:  Loss:     1.0495 Validation Accuracy: 0.609800\n",
      "Epoch 15, CIFAR-10 Batch 1:  Loss:     1.0578 Validation Accuracy: 0.612800\n",
      "Epoch 15, CIFAR-10 Batch 2:  Loss:     1.0312 Validation Accuracy: 0.617200\n",
      "Epoch 15, CIFAR-10 Batch 3:  Loss:     1.0068 Validation Accuracy: 0.609400\n",
      "Epoch 15, CIFAR-10 Batch 4:  Loss:     0.9985 Validation Accuracy: 0.609200\n",
      "Epoch 15, CIFAR-10 Batch 5:  Loss:     1.0225 Validation Accuracy: 0.614000\n",
      "Epoch 16, CIFAR-10 Batch 1:  Loss:     1.0369 Validation Accuracy: 0.617800\n",
      "Epoch 16, CIFAR-10 Batch 2:  Loss:     1.0127 Validation Accuracy: 0.623400\n",
      "Epoch 16, CIFAR-10 Batch 3:  Loss:     0.9891 Validation Accuracy: 0.612400\n",
      "Epoch 16, CIFAR-10 Batch 4:  Loss:     0.9826 Validation Accuracy: 0.613400\n",
      "Epoch 16, CIFAR-10 Batch 5:  Loss:     1.0057 Validation Accuracy: 0.618600\n",
      "Epoch 17, CIFAR-10 Batch 1:  Loss:     1.0205 Validation Accuracy: 0.623200\n",
      "Epoch 17, CIFAR-10 Batch 2:  Loss:     0.9934 Validation Accuracy: 0.628800\n",
      "Epoch 17, CIFAR-10 Batch 3:  Loss:     0.9724 Validation Accuracy: 0.617800\n",
      "Epoch 17, CIFAR-10 Batch 4:  Loss:     0.9692 Validation Accuracy: 0.616800\n",
      "Epoch 17, CIFAR-10 Batch 5:  Loss:     0.9933 Validation Accuracy: 0.620000\n",
      "Epoch 18, CIFAR-10 Batch 1:  Loss:     1.0079 Validation Accuracy: 0.629000\n",
      "Epoch 18, CIFAR-10 Batch 2:  Loss:     0.9783 Validation Accuracy: 0.630600\n",
      "Epoch 18, CIFAR-10 Batch 3:  Loss:     0.9541 Validation Accuracy: 0.621200\n",
      "Epoch 18, CIFAR-10 Batch 4:  Loss:     0.9555 Validation Accuracy: 0.617000\n",
      "Epoch 18, CIFAR-10 Batch 5:  Loss:     0.9819 Validation Accuracy: 0.623800\n",
      "Epoch 19, CIFAR-10 Batch 1:  Loss:     0.9967 Validation Accuracy: 0.632600\n",
      "Epoch 19, CIFAR-10 Batch 2:  Loss:     0.9661 Validation Accuracy: 0.632800\n",
      "Epoch 19, CIFAR-10 Batch 3:  Loss:     0.9363 Validation Accuracy: 0.625200\n",
      "Epoch 19, CIFAR-10 Batch 4:  Loss:     0.9438 Validation Accuracy: 0.616200\n",
      "Epoch 19, CIFAR-10 Batch 5:  Loss:     0.9694 Validation Accuracy: 0.626200\n",
      "Epoch 20, CIFAR-10 Batch 1:  Loss:     0.9857 Validation Accuracy: 0.636600\n",
      "Epoch 20, CIFAR-10 Batch 2:  Loss:     0.9550 Validation Accuracy: 0.635600\n",
      "Epoch 20, CIFAR-10 Batch 3:  Loss:     0.9203 Validation Accuracy: 0.629600\n",
      "Epoch 20, CIFAR-10 Batch 4:  Loss:     0.9327 Validation Accuracy: 0.616400\n",
      "Epoch 20, CIFAR-10 Batch 5:  Loss:     0.9560 Validation Accuracy: 0.630000\n",
      "Epoch 21, CIFAR-10 Batch 1:  Loss:     0.9741 Validation Accuracy: 0.638200\n",
      "Epoch 21, CIFAR-10 Batch 2:  Loss:     0.9445 Validation Accuracy: 0.636200\n",
      "Epoch 21, CIFAR-10 Batch 3:  Loss:     0.9060 Validation Accuracy: 0.633200\n",
      "Epoch 21, CIFAR-10 Batch 4:  Loss:     0.9246 Validation Accuracy: 0.616000\n",
      "Epoch 21, CIFAR-10 Batch 5:  Loss:     0.9406 Validation Accuracy: 0.634000\n",
      "Epoch 22, CIFAR-10 Batch 1:  Loss:     0.9622 Validation Accuracy: 0.639200\n",
      "Epoch 22, CIFAR-10 Batch 2:  Loss:     0.9348 Validation Accuracy: 0.639600\n",
      "Epoch 22, CIFAR-10 Batch 3:  Loss:     0.8924 Validation Accuracy: 0.637600\n",
      "Epoch 22, CIFAR-10 Batch 4:  Loss:     0.9143 Validation Accuracy: 0.618400\n",
      "Epoch 22, CIFAR-10 Batch 5:  Loss:     0.9255 Validation Accuracy: 0.636800\n",
      "Epoch 23, CIFAR-10 Batch 1:  Loss:     0.9506 Validation Accuracy: 0.640400\n",
      "Epoch 23, CIFAR-10 Batch 2:  Loss:     0.9264 Validation Accuracy: 0.641400\n",
      "Epoch 23, CIFAR-10 Batch 3:  Loss:     0.8805 Validation Accuracy: 0.641400\n",
      "Epoch 23, CIFAR-10 Batch 4:  Loss:     0.9062 Validation Accuracy: 0.619200\n",
      "Epoch 23, CIFAR-10 Batch 5:  Loss:     0.9114 Validation Accuracy: 0.637400\n",
      "Epoch 24, CIFAR-10 Batch 1:  Loss:     0.9398 Validation Accuracy: 0.642400\n",
      "Epoch 24, CIFAR-10 Batch 2:  Loss:     0.9159 Validation Accuracy: 0.644000\n",
      "Epoch 24, CIFAR-10 Batch 3:  Loss:     0.8701 Validation Accuracy: 0.643800\n",
      "Epoch 24, CIFAR-10 Batch 4:  Loss:     0.8945 Validation Accuracy: 0.623200\n",
      "Epoch 24, CIFAR-10 Batch 5:  Loss:     0.8971 Validation Accuracy: 0.640600\n",
      "Epoch 25, CIFAR-10 Batch 1:  Loss:     0.9296 Validation Accuracy: 0.645600\n",
      "Epoch 25, CIFAR-10 Batch 2:  Loss:     0.9046 Validation Accuracy: 0.644200\n",
      "Epoch 25, CIFAR-10 Batch 3:  Loss:     0.8590 Validation Accuracy: 0.644000\n",
      "Epoch 25, CIFAR-10 Batch 4:  Loss:     0.8834 Validation Accuracy: 0.627600\n",
      "Epoch 25, CIFAR-10 Batch 5:  Loss:     0.8839 Validation Accuracy: 0.643000\n",
      "Epoch 26, CIFAR-10 Batch 1:  Loss:     0.9194 Validation Accuracy: 0.648400\n",
      "Epoch 26, CIFAR-10 Batch 2:  Loss:     0.8960 Validation Accuracy: 0.646800\n",
      "Epoch 26, CIFAR-10 Batch 3:  Loss:     0.8496 Validation Accuracy: 0.644000\n",
      "Epoch 26, CIFAR-10 Batch 4:  Loss:     0.8718 Validation Accuracy: 0.631600\n",
      "Epoch 26, CIFAR-10 Batch 5:  Loss:     0.8723 Validation Accuracy: 0.646600\n",
      "Epoch 27, CIFAR-10 Batch 1:  Loss:     0.9086 Validation Accuracy: 0.647400\n",
      "Epoch 27, CIFAR-10 Batch 2:  Loss:     0.8872 Validation Accuracy: 0.649600\n",
      "Epoch 27, CIFAR-10 Batch 3:  Loss:     0.8410 Validation Accuracy: 0.646200\n",
      "Epoch 27, CIFAR-10 Batch 4:  Loss:     0.8587 Validation Accuracy: 0.635800\n",
      "Epoch 27, CIFAR-10 Batch 5:  Loss:     0.8593 Validation Accuracy: 0.649400\n",
      "Epoch 28, CIFAR-10 Batch 1:  Loss:     0.8975 Validation Accuracy: 0.649400\n",
      "Epoch 28, CIFAR-10 Batch 2:  Loss:     0.8777 Validation Accuracy: 0.651000\n",
      "Epoch 28, CIFAR-10 Batch 3:  Loss:     0.8289 Validation Accuracy: 0.649800\n",
      "Epoch 28, CIFAR-10 Batch 4:  Loss:     0.8490 Validation Accuracy: 0.638000\n",
      "Epoch 28, CIFAR-10 Batch 5:  Loss:     0.8487 Validation Accuracy: 0.651800\n",
      "Epoch 29, CIFAR-10 Batch 1:  Loss:     0.8869 Validation Accuracy: 0.650400\n",
      "Epoch 29, CIFAR-10 Batch 2:  Loss:     0.8692 Validation Accuracy: 0.652400\n",
      "Epoch 29, CIFAR-10 Batch 3:  Loss:     0.8184 Validation Accuracy: 0.652400\n",
      "Epoch 29, CIFAR-10 Batch 4:  Loss:     0.8395 Validation Accuracy: 0.639600\n",
      "Epoch 29, CIFAR-10 Batch 5:  Loss:     0.8411 Validation Accuracy: 0.651400\n",
      "Epoch 30, CIFAR-10 Batch 1:  Loss:     0.8773 Validation Accuracy: 0.652000\n",
      "Epoch 30, CIFAR-10 Batch 2:  Loss:     0.8602 Validation Accuracy: 0.654000\n",
      "Epoch 30, CIFAR-10 Batch 3:  Loss:     0.8105 Validation Accuracy: 0.653400\n",
      "Epoch 30, CIFAR-10 Batch 4:  Loss:     0.8300 Validation Accuracy: 0.640800\n",
      "Epoch 30, CIFAR-10 Batch 5:  Loss:     0.8332 Validation Accuracy: 0.652000\n",
      "Epoch 31, CIFAR-10 Batch 1:  Loss:     0.8663 Validation Accuracy: 0.652800\n",
      "Epoch 31, CIFAR-10 Batch 2:  Loss:     0.8511 Validation Accuracy: 0.653400\n",
      "Epoch 31, CIFAR-10 Batch 3:  Loss:     0.8012 Validation Accuracy: 0.653400\n",
      "Epoch 31, CIFAR-10 Batch 4:  Loss:     0.8210 Validation Accuracy: 0.641400\n",
      "Epoch 31, CIFAR-10 Batch 5:  Loss:     0.8296 Validation Accuracy: 0.651800\n",
      "Epoch 32, CIFAR-10 Batch 1:  Loss:     0.8578 Validation Accuracy: 0.652600\n",
      "Epoch 32, CIFAR-10 Batch 2:  Loss:     0.8416 Validation Accuracy: 0.657000\n",
      "Epoch 32, CIFAR-10 Batch 3:  Loss:     0.7952 Validation Accuracy: 0.655800\n",
      "Epoch 32, CIFAR-10 Batch 4:  Loss:     0.8090 Validation Accuracy: 0.643000\n",
      "Epoch 32, CIFAR-10 Batch 5:  Loss:     0.8262 Validation Accuracy: 0.652200\n",
      "Epoch 33, CIFAR-10 Batch 1:  Loss:     0.8517 Validation Accuracy: 0.654400\n",
      "Epoch 33, CIFAR-10 Batch 2:  Loss:     0.8308 Validation Accuracy: 0.661000\n",
      "Epoch 33, CIFAR-10 Batch 3:  Loss:     0.7885 Validation Accuracy: 0.656600\n",
      "Epoch 33, CIFAR-10 Batch 4:  Loss:     0.7962 Validation Accuracy: 0.648000\n",
      "Epoch 33, CIFAR-10 Batch 5:  Loss:     0.8184 Validation Accuracy: 0.651200\n",
      "Epoch 34, CIFAR-10 Batch 1:  Loss:     0.8445 Validation Accuracy: 0.651800\n",
      "Epoch 34, CIFAR-10 Batch 2:  Loss:     0.8202 Validation Accuracy: 0.660800\n",
      "Epoch 34, CIFAR-10 Batch 3:  Loss:     0.7815 Validation Accuracy: 0.660000\n",
      "Epoch 34, CIFAR-10 Batch 4:  Loss:     0.7868 Validation Accuracy: 0.651600\n",
      "Epoch 34, CIFAR-10 Batch 5:  Loss:     0.8108 Validation Accuracy: 0.653200\n",
      "Epoch 35, CIFAR-10 Batch 1:  Loss:     0.8367 Validation Accuracy: 0.654000\n",
      "Epoch 35, CIFAR-10 Batch 2:  Loss:     0.8110 Validation Accuracy: 0.660600\n",
      "Epoch 35, CIFAR-10 Batch 3:  Loss:     0.7780 Validation Accuracy: 0.660400\n",
      "Epoch 35, CIFAR-10 Batch 4:  Loss:     0.7776 Validation Accuracy: 0.654400\n",
      "Epoch 35, CIFAR-10 Batch 5:  Loss:     0.8002 Validation Accuracy: 0.655400\n",
      "Epoch 36, CIFAR-10 Batch 1:  Loss:     0.8261 Validation Accuracy: 0.659800\n",
      "Epoch 36, CIFAR-10 Batch 2:  Loss:     0.8033 Validation Accuracy: 0.664000\n",
      "Epoch 36, CIFAR-10 Batch 3:  Loss:     0.7748 Validation Accuracy: 0.660200\n",
      "Epoch 36, CIFAR-10 Batch 4:  Loss:     0.7675 Validation Accuracy: 0.657200\n",
      "Epoch 36, CIFAR-10 Batch 5:  Loss:     0.7874 Validation Accuracy: 0.658000\n",
      "Epoch 37, CIFAR-10 Batch 1:  Loss:     0.8154 Validation Accuracy: 0.660800\n",
      "Epoch 37, CIFAR-10 Batch 2:  Loss:     0.7969 Validation Accuracy: 0.663800\n",
      "Epoch 37, CIFAR-10 Batch 3:  Loss:     0.7684 Validation Accuracy: 0.662200\n",
      "Epoch 37, CIFAR-10 Batch 4:  Loss:     0.7564 Validation Accuracy: 0.657000\n",
      "Epoch 37, CIFAR-10 Batch 5:  Loss:     0.7725 Validation Accuracy: 0.660600\n",
      "Epoch 38, CIFAR-10 Batch 1:  Loss:     0.8053 Validation Accuracy: 0.665800\n",
      "Epoch 38, CIFAR-10 Batch 2:  Loss:     0.7929 Validation Accuracy: 0.662200\n",
      "Epoch 38, CIFAR-10 Batch 3:  Loss:     0.7644 Validation Accuracy: 0.663400\n",
      "Epoch 38, CIFAR-10 Batch 4:  Loss:     0.7480 Validation Accuracy: 0.660400\n",
      "Epoch 38, CIFAR-10 Batch 5:  Loss:     0.7576 Validation Accuracy: 0.662600\n",
      "Epoch 39, CIFAR-10 Batch 1:  Loss:     0.7998 Validation Accuracy: 0.663600\n",
      "Epoch 39, CIFAR-10 Batch 2:  Loss:     0.7973 Validation Accuracy: 0.657400\n",
      "Epoch 39, CIFAR-10 Batch 3:  Loss:     0.7606 Validation Accuracy: 0.660000\n",
      "Epoch 39, CIFAR-10 Batch 4:  Loss:     0.7474 Validation Accuracy: 0.656000\n",
      "Epoch 39, CIFAR-10 Batch 5:  Loss:     0.7483 Validation Accuracy: 0.665000\n",
      "Epoch 40, CIFAR-10 Batch 1:  Loss:     0.8008 Validation Accuracy: 0.665200\n",
      "Epoch 40, CIFAR-10 Batch 2:  Loss:     0.8079 Validation Accuracy: 0.649000\n",
      "Epoch 40, CIFAR-10 Batch 3:  Loss:     0.7370 Validation Accuracy: 0.666600\n",
      "Epoch 40, CIFAR-10 Batch 4:  Loss:     0.7622 Validation Accuracy: 0.658400\n",
      "Epoch 40, CIFAR-10 Batch 5:  Loss:     0.7569 Validation Accuracy: 0.659200\n",
      "Epoch 41, CIFAR-10 Batch 1:  Loss:     0.8034 Validation Accuracy: 0.664200\n",
      "Epoch 41, CIFAR-10 Batch 2:  Loss:     0.7609 Validation Accuracy: 0.666800\n",
      "Epoch 41, CIFAR-10 Batch 3:  Loss:     0.7727 Validation Accuracy: 0.654800\n",
      "Epoch 41, CIFAR-10 Batch 4:  Loss:     0.7610 Validation Accuracy: 0.651800\n",
      "Epoch 41, CIFAR-10 Batch 5:  Loss:     0.7685 Validation Accuracy: 0.654800\n",
      "Epoch 42, CIFAR-10 Batch 1:  Loss:     0.8019 Validation Accuracy: 0.664400\n",
      "Epoch 42, CIFAR-10 Batch 2:  Loss:     0.7511 Validation Accuracy: 0.670200\n",
      "Epoch 42, CIFAR-10 Batch 3:  Loss:     0.7202 Validation Accuracy: 0.662400\n",
      "Epoch 42, CIFAR-10 Batch 4:  Loss:     0.7470 Validation Accuracy: 0.651200\n",
      "Epoch 42, CIFAR-10 Batch 5:  Loss:     0.7420 Validation Accuracy: 0.662400\n",
      "Epoch 43, CIFAR-10 Batch 1:  Loss:     0.7824 Validation Accuracy: 0.668200\n",
      "Epoch 43, CIFAR-10 Batch 2:  Loss:     0.7355 Validation Accuracy: 0.667800\n",
      "Epoch 43, CIFAR-10 Batch 3:  Loss:     0.7163 Validation Accuracy: 0.663000\n",
      "Epoch 43, CIFAR-10 Batch 4:  Loss:     0.7467 Validation Accuracy: 0.647200\n",
      "Epoch 43, CIFAR-10 Batch 5:  Loss:     0.7228 Validation Accuracy: 0.668400\n",
      "Epoch 44, CIFAR-10 Batch 1:  Loss:     0.7678 Validation Accuracy: 0.672000\n",
      "Epoch 44, CIFAR-10 Batch 2:  Loss:     0.7335 Validation Accuracy: 0.664200\n",
      "Epoch 44, CIFAR-10 Batch 3:  Loss:     0.7103 Validation Accuracy: 0.663400\n",
      "Epoch 44, CIFAR-10 Batch 4:  Loss:     0.7463 Validation Accuracy: 0.648400\n",
      "Epoch 44, CIFAR-10 Batch 5:  Loss:     0.7100 Validation Accuracy: 0.668800\n",
      "Epoch 45, CIFAR-10 Batch 1:  Loss:     0.7604 Validation Accuracy: 0.675200\n",
      "Epoch 45, CIFAR-10 Batch 2:  Loss:     0.7337 Validation Accuracy: 0.664600\n",
      "Epoch 45, CIFAR-10 Batch 3:  Loss:     0.6989 Validation Accuracy: 0.664000\n",
      "Epoch 45, CIFAR-10 Batch 4:  Loss:     0.7381 Validation Accuracy: 0.647400\n",
      "Epoch 45, CIFAR-10 Batch 5:  Loss:     0.7060 Validation Accuracy: 0.663000\n",
      "Epoch 46, CIFAR-10 Batch 1:  Loss:     0.7541 Validation Accuracy: 0.676800\n",
      "Epoch 46, CIFAR-10 Batch 2:  Loss:     0.7202 Validation Accuracy: 0.667000\n",
      "Epoch 46, CIFAR-10 Batch 3:  Loss:     0.6996 Validation Accuracy: 0.663000\n",
      "Epoch 46, CIFAR-10 Batch 4:  Loss:     0.7122 Validation Accuracy: 0.656600\n",
      "Epoch 46, CIFAR-10 Batch 5:  Loss:     0.6997 Validation Accuracy: 0.662400\n",
      "Epoch 47, CIFAR-10 Batch 1:  Loss:     0.7430 Validation Accuracy: 0.676800\n",
      "Epoch 47, CIFAR-10 Batch 2:  Loss:     0.7118 Validation Accuracy: 0.667800\n",
      "Epoch 47, CIFAR-10 Batch 3:  Loss:     0.6890 Validation Accuracy: 0.666400\n",
      "Epoch 47, CIFAR-10 Batch 4:  Loss:     0.6915 Validation Accuracy: 0.664400\n",
      "Epoch 47, CIFAR-10 Batch 5:  Loss:     0.6828 Validation Accuracy: 0.664800\n",
      "Epoch 48, CIFAR-10 Batch 1:  Loss:     0.7347 Validation Accuracy: 0.679600\n",
      "Epoch 48, CIFAR-10 Batch 2:  Loss:     0.7065 Validation Accuracy: 0.669000\n",
      "Epoch 48, CIFAR-10 Batch 3:  Loss:     0.6823 Validation Accuracy: 0.666600\n",
      "Epoch 48, CIFAR-10 Batch 4:  Loss:     0.6774 Validation Accuracy: 0.671000\n",
      "Epoch 48, CIFAR-10 Batch 5:  Loss:     0.6672 Validation Accuracy: 0.671000\n",
      "Epoch 49, CIFAR-10 Batch 1:  Loss:     0.7277 Validation Accuracy: 0.677600\n",
      "Epoch 49, CIFAR-10 Batch 2:  Loss:     0.7004 Validation Accuracy: 0.671800\n",
      "Epoch 49, CIFAR-10 Batch 3:  Loss:     0.6824 Validation Accuracy: 0.667800\n",
      "Epoch 49, CIFAR-10 Batch 4:  Loss:     0.6725 Validation Accuracy: 0.671200\n",
      "Epoch 49, CIFAR-10 Batch 5:  Loss:     0.6593 Validation Accuracy: 0.672600\n",
      "Epoch 50, CIFAR-10 Batch 1:  Loss:     0.7307 Validation Accuracy: 0.675200\n",
      "Epoch 50, CIFAR-10 Batch 2:  Loss:     0.6959 Validation Accuracy: 0.675400\n",
      "Epoch 50, CIFAR-10 Batch 3:  Loss:     0.6871 Validation Accuracy: 0.662400\n",
      "Epoch 50, CIFAR-10 Batch 4:  Loss:     0.6776 Validation Accuracy: 0.669000\n",
      "Epoch 50, CIFAR-10 Batch 5:  Loss:     0.6514 Validation Accuracy: 0.671000\n",
      "Epoch 51, CIFAR-10 Batch 1:  Loss:     0.7346 Validation Accuracy: 0.669600\n",
      "Epoch 51, CIFAR-10 Batch 2:  Loss:     0.6926 Validation Accuracy: 0.675800\n",
      "Epoch 51, CIFAR-10 Batch 3:  Loss:     0.6859 Validation Accuracy: 0.662000\n",
      "Epoch 51, CIFAR-10 Batch 4:  Loss:     0.6919 Validation Accuracy: 0.659000\n",
      "Epoch 51, CIFAR-10 Batch 5:  Loss:     0.6616 Validation Accuracy: 0.666200\n",
      "Epoch 52, CIFAR-10 Batch 1:  Loss:     0.7522 Validation Accuracy: 0.658800\n",
      "Epoch 52, CIFAR-10 Batch 2:  Loss:     0.6875 Validation Accuracy: 0.671200\n",
      "Epoch 52, CIFAR-10 Batch 3:  Loss:     0.6551 Validation Accuracy: 0.669800\n",
      "Epoch 52, CIFAR-10 Batch 4:  Loss:     0.6813 Validation Accuracy: 0.664000\n",
      "Epoch 52, CIFAR-10 Batch 5:  Loss:     0.6617 Validation Accuracy: 0.659400\n",
      "Epoch 53, CIFAR-10 Batch 1:  Loss:     0.7503 Validation Accuracy: 0.659400\n",
      "Epoch 53, CIFAR-10 Batch 2:  Loss:     0.6744 Validation Accuracy: 0.675400\n",
      "Epoch 53, CIFAR-10 Batch 3:  Loss:     0.6430 Validation Accuracy: 0.675200\n",
      "Epoch 53, CIFAR-10 Batch 4:  Loss:     0.6695 Validation Accuracy: 0.666200\n",
      "Epoch 53, CIFAR-10 Batch 5:  Loss:     0.6590 Validation Accuracy: 0.660200\n",
      "Epoch 54, CIFAR-10 Batch 1:  Loss:     0.7353 Validation Accuracy: 0.658600\n",
      "Epoch 54, CIFAR-10 Batch 2:  Loss:     0.6622 Validation Accuracy: 0.673600\n",
      "Epoch 54, CIFAR-10 Batch 3:  Loss:     0.6432 Validation Accuracy: 0.672400\n",
      "Epoch 54, CIFAR-10 Batch 4:  Loss:     0.6602 Validation Accuracy: 0.667600\n",
      "Epoch 54, CIFAR-10 Batch 5:  Loss:     0.6486 Validation Accuracy: 0.664800\n",
      "Epoch 55, CIFAR-10 Batch 1:  Loss:     0.7204 Validation Accuracy: 0.661400\n",
      "Epoch 55, CIFAR-10 Batch 2:  Loss:     0.6600 Validation Accuracy: 0.670600\n",
      "Epoch 55, CIFAR-10 Batch 3:  Loss:     0.6359 Validation Accuracy: 0.673000\n",
      "Epoch 55, CIFAR-10 Batch 4:  Loss:     0.6490 Validation Accuracy: 0.670400\n",
      "Epoch 55, CIFAR-10 Batch 5:  Loss:     0.6390 Validation Accuracy: 0.669200\n",
      "Epoch 56, CIFAR-10 Batch 1:  Loss:     0.7171 Validation Accuracy: 0.661800\n",
      "Epoch 56, CIFAR-10 Batch 2:  Loss:     0.6564 Validation Accuracy: 0.669200\n",
      "Epoch 56, CIFAR-10 Batch 3:  Loss:     0.6230 Validation Accuracy: 0.677400\n",
      "Epoch 56, CIFAR-10 Batch 4:  Loss:     0.6479 Validation Accuracy: 0.669200\n",
      "Epoch 56, CIFAR-10 Batch 5:  Loss:     0.6316 Validation Accuracy: 0.667400\n",
      "Epoch 57, CIFAR-10 Batch 1:  Loss:     0.7118 Validation Accuracy: 0.663600\n",
      "Epoch 57, CIFAR-10 Batch 2:  Loss:     0.6443 Validation Accuracy: 0.670200\n",
      "Epoch 57, CIFAR-10 Batch 3:  Loss:     0.6136 Validation Accuracy: 0.680000\n",
      "Epoch 57, CIFAR-10 Batch 4:  Loss:     0.6482 Validation Accuracy: 0.666800\n",
      "Epoch 57, CIFAR-10 Batch 5:  Loss:     0.6248 Validation Accuracy: 0.667200\n",
      "Epoch 58, CIFAR-10 Batch 1:  Loss:     0.7003 Validation Accuracy: 0.667200\n",
      "Epoch 58, CIFAR-10 Batch 2:  Loss:     0.6306 Validation Accuracy: 0.676000\n",
      "Epoch 58, CIFAR-10 Batch 3:  Loss:     0.6129 Validation Accuracy: 0.678600\n",
      "Epoch 58, CIFAR-10 Batch 4:  Loss:     0.6494 Validation Accuracy: 0.666200\n",
      "Epoch 58, CIFAR-10 Batch 5:  Loss:     0.6198 Validation Accuracy: 0.669000\n",
      "Epoch 59, CIFAR-10 Batch 1:  Loss:     0.6871 Validation Accuracy: 0.672400\n",
      "Epoch 59, CIFAR-10 Batch 2:  Loss:     0.6164 Validation Accuracy: 0.677600\n",
      "Epoch 59, CIFAR-10 Batch 3:  Loss:     0.6168 Validation Accuracy: 0.673000\n",
      "Epoch 59, CIFAR-10 Batch 4:  Loss:     0.6485 Validation Accuracy: 0.665000\n",
      "Epoch 59, CIFAR-10 Batch 5:  Loss:     0.6088 Validation Accuracy: 0.671200\n",
      "Epoch 60, CIFAR-10 Batch 1:  Loss:     0.6661 Validation Accuracy: 0.678200\n",
      "Epoch 60, CIFAR-10 Batch 2:  Loss:     0.6073 Validation Accuracy: 0.678200\n",
      "Epoch 60, CIFAR-10 Batch 3:  Loss:     0.6155 Validation Accuracy: 0.670000\n",
      "Epoch 60, CIFAR-10 Batch 4:  Loss:     0.6290 Validation Accuracy: 0.669600\n",
      "Epoch 60, CIFAR-10 Batch 5:  Loss:     0.5847 Validation Accuracy: 0.676400\n"
     ]
    }
   ],
   "source": [
    "\"\"\"\n",
    "DON'T MODIFY ANYTHING IN THIS CELL\n",
    "\"\"\"\n",
    "save_model_path = './image_classification'\n",
    "\n",
    "print('Training...')\n",
    "with tf.Session() as sess:\n",
    "    # Initializing the variables\n",
    "    sess.run(tf.global_variables_initializer())\n",
    "    \n",
    "    # Training cycle\n",
    "    for epoch in range(epochs):\n",
    "        # Loop over all batches\n",
    "        n_batches = 5\n",
    "        for batch_i in range(1, n_batches + 1):\n",
    "            for batch_features, batch_labels in helper.load_preprocess_training_batch(batch_i, batch_size):\n",
    "                train_neural_network(sess, optimizer, keep_probability, batch_features, batch_labels)\n",
    "            print('Epoch {:>2}, CIFAR-10 Batch {}:  '.format(epoch + 1, batch_i), end='')\n",
    "            print_stats(sess, batch_features, batch_labels, cost, accuracy)\n",
    "            \n",
    "    # Save Model\n",
    "    saver = tf.train.Saver()\n",
    "    save_path = saver.save(sess, save_model_path)"
   ]
  },
  {
   "cell_type": "markdown",
   "metadata": {
    "deletable": true,
    "editable": true
   },
   "source": [
    "# Checkpoint\n",
    "The model has been saved to disk.\n",
    "## Test Model\n",
    "Test your model against the test dataset.  This will be your final accuracy. You should have an accuracy greater than 50%. If you don't, keep tweaking the model architecture and parameters."
   ]
  },
  {
   "cell_type": "code",
   "execution_count": 24,
   "metadata": {
    "collapsed": false,
    "deletable": true,
    "editable": true
   },
   "outputs": [
    {
     "name": "stdout",
     "output_type": "stream",
     "text": [
      "Testing Accuracy: 0.6786910057067871\n",
      "\n"
     ]
    },
    {
     "data": {
      "image/png": "[encoded data removed]",
      "text/plain": [
       "<matplotlib.figure.Figure at 0x7faad0180f60>"
      ]
     },
     "metadata": {
      "image/png": {
       "height": 319,
       "width": 355
      }
     },
     "output_type": "display_data"
    }
   ],
   "source": [
    "\"\"\"\n",
    "DON'T MODIFY ANYTHING IN THIS CELL\n",
    "\"\"\"\n",
    "%matplotlib inline\n",
    "%config InlineBackend.figure_format = 'retina'\n",
    "\n",
    "import tensorflow as tf\n",
    "import pickle\n",
    "import helper\n",
    "import random\n",
    "\n",
    "# Set batch size if not already set\n",
    "try:\n",
    "    if batch_size:\n",
    "        pass\n",
    "except NameError:\n",
    "    batch_size = 64\n",
    "\n",
    "save_model_path = './image_classification'\n",
    "n_samples = 4\n",
    "top_n_predictions = 3\n",
    "\n",
    "def test_model():\n",
    "    \"\"\"\n",
    "    Test the saved model against the test dataset\n",
    "    \"\"\"\n",
    "\n",
    "    test_features, test_labels = pickle.load(open('preprocess_test.p', mode='rb'))\n",
    "    loaded_graph = tf.Graph()\n",
    "\n",
    "    with tf.Session(graph=loaded_graph) as sess:\n",
    "        # Load model\n",
    "        loader = tf.train.import_meta_graph(save_model_path + '.meta')\n",
    "        loader.restore(sess, save_model_path)\n",
    "\n",
    "        # Get Tensors from loaded model\n",
    "        loaded_x = loaded_graph.get_tensor_by_name('x:0')\n",
    "        loaded_y = loaded_graph.get_tensor_by_name('y:0')\n",
    "        loaded_keep_prob = loaded_graph.get_tensor_by_name('keep_prob:0')\n",
    "        loaded_logits = loaded_graph.get_tensor_by_name('logits:0')\n",
    "        loaded_acc = loaded_graph.get_tensor_by_name('accuracy:0')\n",
    "        \n",
    "        # Get accuracy in batches for memory limitations\n",
    "        test_batch_acc_total = 0\n",
    "        test_batch_count = 0\n",
    "        \n",
    "        for test_feature_batch, test_label_batch in helper.batch_features_labels(test_features, test_labels, batch_size):\n",
    "            test_batch_acc_total += sess.run(\n",
    "                loaded_acc,\n",
    "                feed_dict={loaded_x: test_feature_batch, loaded_y: test_label_batch, loaded_keep_prob: 1.0})\n",
    "            test_batch_count += 1\n",
    "\n",
    "        print('Testing Accuracy: {}\\n'.format(test_batch_acc_total/test_batch_count))\n",
    "\n",
    "        # Print Random Samples\n",
    "        random_test_features, random_test_labels = tuple(zip(*random.sample(list(zip(test_features, test_labels)), n_samples)))\n",
    "        random_test_predictions = sess.run(\n",
    "            tf.nn.top_k(tf.nn.softmax(loaded_logits), top_n_predictions),\n",
    "            feed_dict={loaded_x: random_test_features, loaded_y: random_test_labels, loaded_keep_prob: 1.0})\n",
    "        helper.display_image_predictions(random_test_features, random_test_labels, random_test_predictions)\n",
    "\n",
    "\n",
    "test_model()"
   ]
  },
  {
   "cell_type": "markdown",
   "metadata": {
    "deletable": true,
    "editable": true
   },
   "source": [
    "## Why 50-80% Accuracy?\n",
    "You might be wondering why you can't get an accuracy any higher. First things first, 50% isn't bad for a simple CNN.  Pure guessing would get you 10% accuracy. However, you might notice people are getting scores [well above 80%](http://rodrigob.github.io/are_we_there_yet/build/classification_datasets_results.html#43494641522d3130).  That's because we haven't taught you all there is to know about neural networks. We still need to cover a few more techniques.\n",
    "## Submitting This Project\n",
    "When submitting this project, make sure to run all the cells before saving the notebook.  Save the notebook file as \"dlnd_image_classification.ipynb\" and save it as a HTML file under \"File\" -> \"Download as\".  Include the \"helper.py\" and \"problem_unittests.py\" files in your submission."
   ]
  }
 ],
 "metadata": {
  "anaconda-cloud": {},
  "kernelspec": {
   "display_name": "Python 3",
   "language": "python",
   "name": "python3"
  },
  "language_info": {
   "codemirror_mode": {
    "name": "ipython",
    "version": 3
   },
   "file_extension": ".py",
   "mimetype": "text/x-python",
   "name": "python",
   "nbconvert_exporter": "python",
   "pygments_lexer": "ipython3",
   "version": "3.5.2"
  },
  "widgets": {
   "state": {},
   "version": "1.1.2"
  }
 },
 "nbformat": 4,
 "nbformat_minor": 0
}
